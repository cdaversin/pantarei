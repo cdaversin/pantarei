{
 "cells": [
  {
   "cell_type": "code",
   "execution_count": 4,
   "id": "b7b63d2b",
   "metadata": {},
   "outputs": [
    {
     "name": "stdout",
     "output_type": "stream",
     "text": [
      "The autoreload extension is already loaded. To reload it, use:\n",
      "  %reload_ext autoreload\n"
     ]
    }
   ],
   "source": [
    "%load_ext autoreload\n",
    "%autoreload 2"
   ]
  },
  {
   "cell_type": "code",
   "execution_count": 5,
   "id": "431ce418",
   "metadata": {},
   "outputs": [],
   "source": [
    "import h5py\n",
    "import matplotlib.pyplot as plt\n",
    "from dolfin import *"
   ]
  },
  {
   "cell_type": "markdown",
   "id": "76ee11d8",
   "metadata": {},
   "source": [
    "1. Implement the basics of the pulsating poiseuille flow within this notebook.\n",
    "2. Implement ability to read mixed element function spaces from pickled info.\n",
    "3. Separate conversion of hdf5 into xdmf as a separate function.\n",
    "4. Implement splitting functionality to the xdmf visualization converter. Note that calling `u.split()` on a non-splittable function returns an empty set."
   ]
  },
  {
   "cell_type": "markdown",
   "id": "514b3447",
   "metadata": {},
   "source": [
    "# Define Poiseuille Flow Problem"
   ]
  },
  {
   "cell_type": "code",
   "execution_count": 6,
   "id": "af6edb78",
   "metadata": {},
   "outputs": [],
   "source": [
    "from pantarei.elements import TaylorHood\n",
    "from pantarei.meshprocessing import hdf2fenics\n",
    "from pantarei.io import TimeSeriesStorage"
   ]
  },
  {
   "cell_type": "code",
   "execution_count": 20,
   "id": "766917f4",
   "metadata": {},
   "outputs": [
    {
     "name": "stdout",
     "output_type": "stream",
     "text": [
      "Solving linear variational problem.\n",
      "Solving linear variational problem.\n",
      "Solving linear variational problem.\n",
      "Solving linear variational problem.\n",
      "Solving linear variational problem.\n",
      "Solving linear variational problem.\n",
      "Solving linear variational problem.\n",
      "Solving linear variational problem.\n",
      "Solving linear variational problem.\n",
      "Solving linear variational problem.\n",
      "Solving linear variational problem.\n",
      "Solving linear variational problem.\n",
      "Solving linear variational problem.\n",
      "Solving linear variational problem.\n",
      "Solving linear variational problem.\n",
      "Solving linear variational problem.\n",
      "Solving linear variational problem.\n",
      "Solving linear variational problem.\n",
      "Solving linear variational problem.\n",
      "Solving linear variational problem.\n",
      "Solving linear variational problem.\n",
      "Solving linear variational problem.\n",
      "Solving linear variational problem.\n",
      "Solving linear variational problem.\n",
      "Solving linear variational problem.\n",
      "Solving linear variational problem.\n",
      "Solving linear variational problem.\n",
      "Solving linear variational problem.\n",
      "Solving linear variational problem.\n",
      "Solving linear variational problem.\n",
      "Solving linear variational problem.\n",
      "Solving linear variational problem.\n",
      "Solving linear variational problem.\n",
      "Solving linear variational problem.\n",
      "Solving linear variational problem.\n",
      "Solving linear variational problem.\n",
      "Solving linear variational problem.\n",
      "Solving linear variational problem.\n",
      "Solving linear variational problem.\n",
      "Solving linear variational problem.\n",
      "Solving linear variational problem.\n",
      "Solving linear variational problem.\n",
      "Solving linear variational problem.\n",
      "Solving linear variational problem.\n",
      "Solving linear variational problem.\n",
      "Solving linear variational problem.\n",
      "Solving linear variational problem.\n",
      "Solving linear variational problem.\n",
      "Solving linear variational problem.\n",
      "Solving linear variational problem.\n",
      "Solving linear variational problem.\n",
      "Solving linear variational problem.\n",
      "Solving linear variational problem.\n",
      "Solving linear variational problem.\n",
      "Solving linear variational problem.\n",
      "Solving linear variational problem.\n",
      "Solving linear variational problem.\n",
      "Solving linear variational problem.\n",
      "Solving linear variational problem.\n",
      "Solving linear variational problem.\n",
      "Solving linear variational problem.\n",
      "Solving linear variational problem.\n",
      "Solving linear variational problem.\n",
      "Solving linear variational problem.\n",
      "Solving linear variational problem.\n",
      "Solving linear variational problem.\n",
      "Solving linear variational problem.\n",
      "Solving linear variational problem.\n",
      "Solving linear variational problem.\n",
      "Solving linear variational problem.\n",
      "Solving linear variational problem.\n",
      "Solving linear variational problem.\n",
      "Solving linear variational problem.\n",
      "Solving linear variational problem.\n",
      "Solving linear variational problem.\n",
      "Solving linear variational problem.\n",
      "Solving linear variational problem.\n",
      "Solving linear variational problem.\n",
      "Solving linear variational problem.\n",
      "Solving linear variational problem.\n",
      "Solving linear variational problem.\n",
      "Solving linear variational problem.\n",
      "Solving linear variational problem.\n",
      "Solving linear variational problem.\n",
      "Solving linear variational problem.\n",
      "Solving linear variational problem.\n",
      "Solving linear variational problem.\n",
      "Solving linear variational problem.\n",
      "Solving linear variational problem.\n",
      "Solving linear variational problem.\n",
      "Solving linear variational problem.\n",
      "Solving linear variational problem.\n",
      "Solving linear variational problem.\n",
      "Solving linear variational problem.\n",
      "Solving linear variational problem.\n",
      "Solving linear variational problem.\n",
      "Solving linear variational problem.\n",
      "Solving linear variational problem.\n",
      "Solving linear variational problem.\n",
      "Solving linear variational problem.\n",
      "Solving linear variational problem.\n"
     ]
    }
   ],
   "source": [
    "mesh, subdomains, boundaries = hdf2fenics(\"../examples/pipe2d.h5\")\n",
    "TH = TaylorHood(mesh)\n",
    "W = FunctionSpace(mesh, TH)\n",
    "u, p = TrialFunctions(W)\n",
    "v, q = TestFunctions(W)\n",
    "n = FacetNormal(mesh)\n",
    "\n",
    "# Pulsating Pressure\n",
    "p_inflow = Expression(\"10. * sin(t) + 5. * sin(3.*t)\",\n",
    "                      t=Constant(1.), degree=1)\n",
    "p_outflow = Constant(0.)\n",
    "\n",
    "\n",
    "ds = Measure('ds', domain=mesh, subdomain_data=boundaries)\n",
    "F = (inner(grad(u), grad(v)) - p*div(v) - q*div(u)) * dx \\\n",
    "    + inner(p_inflow * n, v) * ds(4) + inner(p_outflow * n, v) * ds(2)\n",
    "\n",
    "bcs = [\n",
    "    DirichletBC(W.sub(0), Constant((0., 0.)), boundaries, 1),\n",
    "    DirichletBC(W.sub(0), Constant((0., 0.)), boundaries, 3)\n",
    "]\n",
    "\n",
    "storage = TimeSeriesStorage(\"w\", \"./tsstorage\", mesh=mesh, V=W)\n",
    "\n",
    "a, L = lhs(F), rhs(F)\n",
    "UP = Function(W)\n",
    "\n",
    "t = 0.\n",
    "T = 10.\n",
    "dt = 0.1\n",
    "set_log_level(20)\n",
    "storage.write(UP, t)\n",
    "while t < T:\n",
    "    t += dt\n",
    "    solve(a == L, UP, bcs)\n",
    "    p_inflow.t.assign(t)\n",
    "    storage.write(UP, t)\n",
    "    \n",
    "storage.to_xdmf((\"u\", \"p\"))\n",
    "storage.close()\n",
    "# visual = TimeSeriesStorage(\"r\", \"./tsstorage\")\n",
    "# visual.to_xdmf(((\"velocitx\", \"velocity\"), \"pressure\"))\n",
    "# visual.close()"
   ]
  },
  {
   "cell_type": "code",
   "execution_count": 18,
   "id": "b38c77a5",
   "metadata": {},
   "outputs": [],
   "source": [
    "visual = TimeSeriesStorage(\"r\", \"./tsstorage\")\n",
    "visual.to_xdmf(((\"velocitx\", \"velocity\"), \"pressure\"))\n",
    "visual.close()"
   ]
  },
  {
   "cell_type": "code",
   "execution_count": 14,
   "id": "dc4b8263",
   "metadata": {},
   "outputs": [],
   "source": [
    "visual.close()"
   ]
  },
  {
   "cell_type": "code",
   "execution_count": 15,
   "id": "633603dc",
   "metadata": {},
   "outputs": [],
   "source": [
    "visual = TimeSeriesStorage(\"r\", \"./tsstorage\")"
   ]
  },
  {
   "cell_type": "code",
   "execution_count": 20,
   "id": "d59a6985",
   "metadata": {},
   "outputs": [],
   "source": [
    "u = Function(visual.V)\n",
    "hdf5 = HDF5File(visual.mesh.mpi_comm(), \"tsstorage/values.hdf5\", \"r\")\n",
    "for i in range(len(visual)):\n",
    "    hdf5.read(u.vector(), f\"/values_{i}\", True)"
   ]
  },
  {
   "cell_type": "code",
   "execution_count": 9,
   "id": "97beda74",
   "metadata": {},
   "outputs": [
    {
     "data": {
      "text/plain": [
       "<matplotlib.tri.tricontour.TriContourSet at 0x7f94c8ab0f70>"
      ]
     },
     "execution_count": 9,
     "metadata": {},
     "output_type": "execute_result"
    },
    {
     "data": {
      "image/png": "[encoded data removed]",
      "text/plain": [
       "<Figure size 432x288 with 1 Axes>"
      ]
     },
     "metadata": {
      "needs_background": "light"
     },
     "output_type": "display_data"
    }
   ],
   "source": [
    "plot(UP.split()[0].split()[0])"
   ]
  },
  {
   "cell_type": "code",
   "execution_count": 31,
   "id": "c487f553",
   "metadata": {},
   "outputs": [
    {
     "data": {
      "text/plain": [
       "Coefficient(FunctionSpace(Mesh(VectorElement(FiniteElement('Lagrange', triangle, 1), dim=2), 2072), VectorElement(FiniteElement('Lagrange', triangle, 2), dim=2)), 3165)"
      ]
     },
     "execution_count": 31,
     "metadata": {},
     "output_type": "execute_result"
    }
   ],
   "source": [
    "u"
   ]
  },
  {
   "cell_type": "code",
   "execution_count": 12,
   "id": "906f1211",
   "metadata": {},
   "outputs": [
    {
     "name": "stdout",
     "output_type": "stream",
     "text": [
      "velocity\n",
      "pressure\n",
      "velocity\n",
      "pressure\n",
      "velocity\n",
      "pressure\n",
      "velocity\n",
      "pressure\n",
      "velocity\n",
      "pressure\n",
      "velocity\n",
      "pressure\n",
      "velocity\n",
      "pressure\n",
      "velocity\n",
      "pressure\n",
      "velocity\n",
      "pressure\n",
      "velocity\n",
      "pressure\n",
      "velocity\n",
      "pressure\n",
      "velocity\n",
      "pressure\n",
      "velocity\n",
      "pressure\n",
      "velocity\n",
      "pressure\n",
      "velocity\n",
      "pressure\n",
      "velocity\n",
      "pressure\n",
      "velocity\n",
      "pressure\n",
      "velocity\n",
      "pressure\n",
      "velocity\n",
      "pressure\n",
      "velocity\n",
      "pressure\n",
      "velocity\n",
      "pressure\n",
      "velocity\n",
      "pressure\n",
      "velocity\n",
      "pressure\n",
      "velocity\n",
      "pressure\n",
      "velocity\n",
      "pressure\n",
      "velocity\n",
      "pressure\n",
      "velocity\n",
      "pressure\n",
      "velocity\n",
      "pressure\n",
      "velocity\n",
      "pressure\n",
      "velocity\n",
      "pressure\n",
      "velocity\n",
      "pressure\n",
      "velocity\n",
      "pressure\n",
      "velocity\n",
      "pressure\n",
      "velocity\n",
      "pressure\n",
      "velocity\n",
      "pressure\n",
      "velocity\n",
      "pressure\n",
      "velocity\n",
      "pressure\n",
      "velocity\n",
      "pressure\n",
      "velocity\n",
      "pressure\n",
      "velocity\n",
      "pressure\n",
      "velocity\n",
      "pressure\n",
      "velocity\n",
      "pressure\n",
      "velocity\n",
      "pressure\n",
      "velocity\n",
      "pressure\n",
      "velocity\n",
      "pressure\n",
      "velocity\n",
      "pressure\n",
      "velocity\n",
      "pressure\n",
      "velocity\n",
      "pressure\n",
      "velocity\n",
      "pressure\n",
      "velocity\n",
      "pressure\n",
      "velocity\n",
      "pressure\n",
      "velocity\n",
      "pressure\n",
      "velocity\n",
      "pressure\n",
      "velocity\n",
      "pressure\n",
      "velocity\n",
      "pressure\n",
      "velocity\n",
      "pressure\n",
      "velocity\n",
      "pressure\n",
      "velocity\n",
      "pressure\n",
      "velocity\n",
      "pressure\n",
      "velocity\n",
      "pressure\n",
      "velocity\n",
      "pressure\n",
      "velocity\n",
      "pressure\n",
      "velocity\n",
      "pressure\n",
      "velocity\n",
      "pressure\n",
      "velocity\n",
      "pressure\n",
      "velocity\n",
      "pressure\n",
      "velocity\n",
      "pressure\n",
      "velocity\n",
      "pressure\n",
      "velocity\n",
      "pressure\n",
      "velocity\n",
      "pressure\n",
      "velocity\n",
      "pressure\n",
      "velocity\n",
      "pressure\n",
      "velocity\n",
      "pressure\n",
      "velocity\n",
      "pressure\n",
      "velocity\n",
      "pressure\n",
      "velocity\n",
      "pressure\n",
      "velocity\n",
      "pressure\n",
      "velocity\n",
      "pressure\n",
      "velocity\n",
      "pressure\n",
      "velocity\n",
      "pressure\n",
      "velocity\n",
      "pressure\n",
      "velocity\n",
      "pressure\n",
      "velocity\n",
      "pressure\n",
      "velocity\n",
      "pressure\n",
      "velocity\n",
      "pressure\n",
      "velocity\n",
      "pressure\n",
      "velocity\n",
      "pressure\n",
      "velocity\n",
      "pressure\n",
      "velocity\n",
      "pressure\n",
      "velocity\n",
      "pressure\n",
      "velocity\n",
      "pressure\n",
      "velocity\n",
      "pressure\n",
      "velocity\n",
      "pressure\n",
      "velocity\n",
      "pressure\n",
      "velocity\n",
      "pressure\n",
      "velocity\n",
      "pressure\n",
      "velocity\n",
      "pressure\n",
      "velocity\n",
      "pressure\n",
      "velocity\n",
      "pressure\n",
      "velocity\n",
      "pressure\n",
      "velocity\n",
      "pressure\n",
      "velocity\n",
      "pressure\n"
     ]
    }
   ],
   "source": [
    "visual = TimeSeriesStorage(\"r\", \"./tsstorage\")\n",
    "visual.to_xdmf((\"velocity\", \"pressure\"))"
   ]
  },
  {
   "cell_type": "code",
   "execution_count": 31,
   "id": "bc8fd5f5",
   "metadata": {},
   "outputs": [
    {
     "data": {
      "text/plain": [
       "[<matplotlib.lines.Line2D at 0x7f9e34ff79d0>]"
      ]
     },
     "execution_count": 31,
     "metadata": {},
     "output_type": "execute_result"
    },
    {
     "data": {
      "image/png": "[encoded data removed]",
      "text/plain": [
       "<Figure size 432x288 with 1 Axes>"
      ]
     },
     "metadata": {
      "needs_background": "light"
     },
     "output_type": "display_data"
    }
   ],
   "source": [
    "plt.plot(visual.times)"
   ]
  },
  {
   "cell_type": "code",
   "execution_count": 15,
   "id": "07295366",
   "metadata": {},
   "outputs": [
    {
     "data": {
      "text/plain": [
       "(Coefficient(FunctionSpace(Mesh(VectorElement(FiniteElement('Lagrange', triangle, 1), dim=2), 3134), VectorElement(FiniteElement('Lagrange', triangle, 2), dim=2)), 5201),\n",
       " Coefficient(FunctionSpace(Mesh(VectorElement(FiniteElement('Lagrange', triangle, 1), dim=2), 3134), FiniteElement('Lagrange', triangle, 1)), 5202))"
      ]
     },
     "execution_count": 15,
     "metadata": {},
     "output_type": "execute_result"
    }
   ],
   "source": [
    "UP.split()"
   ]
  },
  {
   "cell_type": "code",
   "execution_count": 18,
   "id": "f35866da",
   "metadata": {},
   "outputs": [],
   "source": [
    "ux, uy = u.split()"
   ]
  },
  {
   "cell_type": "code",
   "execution_count": 19,
   "id": "adf09d7b",
   "metadata": {},
   "outputs": [
    {
     "data": {
      "text/plain": [
       "()"
      ]
     },
     "execution_count": 19,
     "metadata": {},
     "output_type": "execute_result"
    }
   ],
   "source": [
    "ux.split()"
   ]
  },
  {
   "cell_type": "code",
   "execution_count": 14,
   "id": "50c5dac1",
   "metadata": {},
   "outputs": [
    {
     "data": {
      "text/plain": [
       "(Coefficient(FunctionSpace(Mesh(VectorElement(FiniteElement('Lagrange', triangle, 1), dim=2), 3134), FiniteElement('Lagrange', triangle, 2)), 5199),\n",
       " Coefficient(FunctionSpace(Mesh(VectorElement(FiniteElement('Lagrange', triangle, 1), dim=2), 3134), FiniteElement('Lagrange', triangle, 2)), 5200))"
      ]
     },
     "execution_count": 14,
     "metadata": {},
     "output_type": "execute_result"
    }
   ],
   "source": [
    "u.split()"
   ]
  },
  {
   "cell_type": "code",
   "execution_count": 4,
   "id": "66a7e42e",
   "metadata": {},
   "outputs": [],
   "source": [
    "import pickle\n",
    "import numpy as np\n",
    "import osv\n",
    "from pathlib import Path\n",
    "from dolfin import HDF5File, XDMFFile, FunctionSpace, Function, Mesh\n",
    "\n",
    "\n",
    "class TimeSeriesStorage:\n",
    "    \"\"\" TODO:\n",
    "            * Add a name-tag for functions\n",
    "            * Initialize from function, and get mesh and functionspace from there\n",
    "            * Consider a switch for turning off xdmf-storage if not needed.\n",
    "    \"\"\"\n",
    "    def __init__(self, mode: str, filepath, *, mesh=None, V=None):\n",
    "        self.filepath = Path(filepath).resolve()\n",
    "        if mode == \"w\":\n",
    "            assert (mesh is not None and V is not None), 'mode \"w\" requires a mesh and functionspace V.'\n",
    "            self._init_write(mesh, V)\n",
    "        elif mode == \"r\":\n",
    "            self._init_read()\n",
    "        else:\n",
    "            raise ValueError(f\"Invalid mode '{mode}'. Shold be 'w' (write) or 'r' (read).\")\n",
    "\n",
    "    def _init_write(self, mesh, V):\n",
    "        self.mesh = mesh\n",
    "        self.V = V\n",
    "\n",
    "        # Create directory, value-file and xdmf file for paraview visualization.\n",
    "        self.filepath.mkdir(exist_ok=True)\n",
    "\n",
    "        hdffile, xdmffile, infofile = (self.filepath / file for file in (\"values.hdf5\", \"visual.xdmf\", \"info.pkl\"))\n",
    "        for file in (hdffile, xdmffile, infofile):\n",
    "            if file.exists():\n",
    "                os.remove(file)\n",
    "\n",
    "        self.hdf5 = HDF5File(mesh.mpi_comm(), str(hdffile), \"w\")\n",
    "        self.xdmf = XDMFFile(mesh.mpi_comm(), str(xdmffile))\n",
    "\n",
    "        # Store the mesh to file for simple reconstruction of functionspace.\n",
    "        with HDF5File(mesh.mpi_comm(), str(self.filepath / \"mesh.hdf5\"), \"w\") as f:\n",
    "            f.write(mesh, \"/mesh\")\n",
    "\n",
    "        # Initialize time and length\n",
    "        self.idx = 0\n",
    "        self.times = np.empty(0)\n",
    "\n",
    "    def _init_read(self):\n",
    "        assert self.filepath.is_dir(), f\"filepath {self.filepath} does not exist.\"\n",
    "\n",
    "        # Load mesh from stored file.\n",
    "        self.mesh = Mesh()\n",
    "        with HDF5File(self.mesh.mpi_comm(), str(self.filepath / \"mesh.hdf5\"), \"r\") as f:\n",
    "            f.read(self.mesh, \"/mesh\", True)\n",
    "\n",
    "        # Open file to read values\n",
    "        self.hdf5 = HDF5File(self.mesh.mpi_comm(), str(self.filepath / f\"values.hdf5\"), \"r\")\n",
    "\n",
    "        # Reconstruct functionspace, and create function to load values.\n",
    "        self.times, el = self.load_info()\n",
    "\n",
    "        self.V = FunctionSpace(self.mesh, el)\n",
    "        self.u = Function(self.V)\n",
    "\n",
    "        # Find the number of elements written to file, to determine length.\n",
    "        self.idx = self.times.size\n",
    "\n",
    "    def load_mesh(self):\n",
    "        # Load mesh from stored file.\n",
    "        self.mesh = Mesh()\n",
    "        with HDF5File(self.mesh.mpi_comm(), str(self.filepath / \"mesh.hdf5\"), \"r\") as f:\n",
    "            f.read(self.mesh, \"/mesh\", True)\n",
    "        return self.mesh\n",
    "\n",
    "    def _extend_time_vector(self):\n",
    "        self.times = np.concatenate((self.times, np.nan * np.empty(100)))\n",
    "\n",
    "    def write(self, u, t):\n",
    "        # Attempt to preallocate data\n",
    "        try:\n",
    "            self.times[self.idx] = t\n",
    "        except IndexError:\n",
    "            self._extend_time_vector()\n",
    "            self.times[self.idx] = t\n",
    "        # Store data\n",
    "        self.hdf5.write(u.vector(), f\"/values_{self.idx}\")\n",
    "        self.xdmf.write(u, t)\n",
    "        self.idx += 1\n",
    "\n",
    "    def store_info(self):\n",
    "        with open(self.filepath / \"info.pkl\", \"wb\") as f:\n",
    "            pickle.dump((self.times[~np.isnan(self.times)], self.V.ufl_element()), f)\n",
    "\n",
    "    def load_info(self):\n",
    "        with open(self.filepath / \"info.pkl\", \"rb\") as f:\n",
    "            times, el = pickle.load(f)\n",
    "        return times, el\n",
    "\n",
    "    def close(self):\n",
    "        if hasattr(self, 'hdf5'):\n",
    "            self.hdf5.close()\n",
    "        if hasattr(self, 'xdmf'):\n",
    "            self.xdmf.close()\n",
    "        self.store_info()\n",
    "\n",
    "    def __iter__(self):\n",
    "        for i in range(len(self)):\n",
    "            # u = Function(self.V)\n",
    "\n",
    "            self.hdf5.read(self.u.vector(), f\"/values_{i}\", True)\n",
    "            yield self.u\n",
    "\n",
    "    def dual_iter(self):\n",
    "        for i in range(len(self)):\n",
    "            self.hdf5.read(self.u.vector(), f\"/values_{i}\", True)\n",
    "            yield self.times[i], self.u\n",
    "\n",
    "    def __len__(self):\n",
    "        return self.idx\n"
   ]
  },
  {
   "cell_type": "code",
   "execution_count": null,
   "id": "2f2cc008",
   "metadata": {},
   "outputs": [],
   "source": []
  }
 ],
 "metadata": {
  "kernelspec": {
   "display_name": "Python 3.10.5 ('neural')",
   "language": "python",
   "name": "python3"
  },
  "language_info": {
   "codemirror_mode": {
    "name": "ipython",
    "version": 3
   },
   "file_extension": ".py",
   "mimetype": "text/x-python",
   "name": "python",
   "nbconvert_exporter": "python",
   "pygments_lexer": "ipython3",
   "version": "3.10.5"
  },
  "vscode": {
   "interpreter": {
    "hash": "94bff76b3037b1b07c92799aeeb3579fce7d7ffbdd981093064dc4060814c0eb"
   }
  }
 },
 "nbformat": 4,
 "nbformat_minor": 5
}
