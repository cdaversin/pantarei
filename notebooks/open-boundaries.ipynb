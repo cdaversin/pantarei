{
 "cells": [
  {
   "cell_type": "code",
   "execution_count": 1,
   "id": "c2693892",
   "metadata": {},
   "outputs": [],
   "source": [
    "%load_ext autoreload\n",
    "%autoreload 2"
   ]
  },
  {
   "cell_type": "code",
   "execution_count": 2,
   "id": "388ac0b1",
   "metadata": {},
   "outputs": [],
   "source": [
    "import numpy as np\n",
    "import matplotlib.pyplot as plt\n",
    "\n",
    "from dolfin import *"
   ]
  },
  {
   "cell_type": "code",
   "execution_count": 9,
   "id": "ec9cd74d",
   "metadata": {},
   "outputs": [],
   "source": [
    "mesh = RectangleMesh(\n",
    "    Point(-1., -1.),\n",
    "    Point(1., 1.),\n",
    "    10, 10\n",
    ")"
   ]
  },
  {
   "cell_type": "code",
   "execution_count": 10,
   "id": "a965bc8e",
   "metadata": {},
   "outputs": [],
   "source": [
    "el = FiniteElement(\"P\", mesh.ufl_cell(), 1)\n",
    "element = MixedElement([el, el])\n",
    "W = FunctionSpace(mesh, element)"
   ]
  },
  {
   "cell_type": "code",
   "execution_count": 11,
   "id": "8649899d",
   "metadata": {},
   "outputs": [],
   "source": [
    "f = Expression(\"exp(-(x[0] * x[0] + x[1]*x[1]) / (b*b))\", b=Constant(0.5), degree=1)"
   ]
  },
  {
   "cell_type": "code",
   "execution_count": 12,
   "id": "f434b529",
   "metadata": {},
   "outputs": [
    {
     "data": {
      "text/plain": [
       "<matplotlib.tri.tricontour.TriContourSet at 0x7f74673154b0>"
      ]
     },
     "execution_count": 12,
     "metadata": {},
     "output_type": "execute_result"
    },
    {
     "data": {
      "image/png": "[encoded data removed]",
      "text/plain": [
       "<Figure size 432x288 with 1 Axes>"
      ]
     },
     "metadata": {
      "needs_background": "light"
     },
     "output_type": "display_data"
    }
   ],
   "source": [
    "plot(f, mesh=mesh)"
   ]
  },
  {
   "cell_type": "code",
   "execution_count": 44,
   "id": "22a718a5",
   "metadata": {},
   "outputs": [
    {
     "data": {
      "text/plain": [
       "Coefficient(FunctionSpace(Mesh(VectorElement(FiniteElement('Lagrange', triangle, 1), dim=2), 2), FiniteElement('Lagrange', triangle, 1)), 198)"
      ]
     },
     "execution_count": 44,
     "metadata": {},
     "output_type": "execute_result"
    }
   ],
   "source": [
    "u0.sub(0)"
   ]
  },
  {
   "cell_type": "code",
   "execution_count": 53,
   "id": "f05e747a",
   "metadata": {},
   "outputs": [
    {
     "data": {
      "text/plain": [
       "'/home/jorgen/Dropbox/code/pantarei/notebooks'"
      ]
     },
     "execution_count": 53,
     "metadata": {},
     "output_type": "execute_result"
    }
   ],
   "source": [
    "%pwd"
   ]
  },
  {
   "cell_type": "code",
   "execution_count": 57,
   "id": "1eb2f4f4",
   "metadata": {},
   "outputs": [
    {
     "name": "stdout",
     "output_type": "stream",
     "text": [
      "            Solving linear variational problem.\n",
      "            Solving linear variational problem.\n",
      "            Solving linear variational problem.\n",
      "            Solving linear variational problem.\n",
      "            Solving linear variational problem.\n",
      "            Solving linear variational problem.\n",
      "            Solving linear variational problem.\n",
      "            Solving linear variational problem.\n",
      "            Solving linear variational problem.\n",
      "            Solving linear variational problem.\n",
      "            Solving linear variational problem.\n",
      "            Solving linear variational problem.\n",
      "            Solving linear variational problem.\n",
      "            Solving linear variational problem.\n",
      "            Solving linear variational problem.\n",
      "            Solving linear variational problem.\n",
      "            Solving linear variational problem.\n",
      "            Solving linear variational problem.\n",
      "            Solving linear variational problem.\n",
      "            Solving linear variational problem.\n",
      "            Solving linear variational problem.\n",
      "            Solving linear variational problem.\n",
      "            Solving linear variational problem.\n",
      "            Solving linear variational problem.\n",
      "            Solving linear variational problem.\n",
      "            Solving linear variational problem.\n",
      "            Solving linear variational problem.\n",
      "            Solving linear variational problem.\n",
      "            Solving linear variational problem.\n",
      "            Solving linear variational problem.\n",
      "            Solving linear variational problem.\n",
      "            Solving linear variational problem.\n",
      "            Solving linear variational problem.\n",
      "            Solving linear variational problem.\n",
      "            Solving linear variational problem.\n",
      "            Solving linear variational problem.\n",
      "            Solving linear variational problem.\n",
      "            Solving linear variational problem.\n",
      "            Solving linear variational problem.\n",
      "            Solving linear variational problem.\n",
      "            Solving linear variational problem.\n",
      "            Solving linear variational problem.\n",
      "            Solving linear variational problem.\n",
      "            Solving linear variational problem.\n",
      "            Solving linear variational problem.\n",
      "            Solving linear variational problem.\n",
      "            Solving linear variational problem.\n",
      "            Solving linear variational problem.\n",
      "            Solving linear variational problem.\n",
      "            Solving linear variational problem.\n",
      "            Solving linear variational problem.\n",
      "            Solving linear variational problem.\n",
      "            Solving linear variational problem.\n",
      "            Solving linear variational problem.\n",
      "            Solving linear variational problem.\n",
      "            Solving linear variational problem.\n",
      "            Solving linear variational problem.\n",
      "            Solving linear variational problem.\n",
      "            Solving linear variational problem.\n",
      "            Solving linear variational problem.\n",
      "            Solving linear variational problem.\n",
      "            Solving linear variational problem.\n",
      "            Solving linear variational problem.\n",
      "            Solving linear variational problem.\n",
      "            Solving linear variational problem.\n",
      "            Solving linear variational problem.\n",
      "            Solving linear variational problem.\n",
      "            Solving linear variational problem.\n",
      "            Solving linear variational problem.\n",
      "            Solving linear variational problem.\n",
      "            Solving linear variational problem.\n",
      "            Solving linear variational problem.\n",
      "            Solving linear variational problem.\n",
      "            Solving linear variational problem.\n",
      "            Solving linear variational problem.\n",
      "            Solving linear variational problem.\n",
      "            Solving linear variational problem.\n",
      "            Solving linear variational problem.\n",
      "            Solving linear variational problem.\n",
      "            Solving linear variational problem.\n",
      "            Solving linear variational problem.\n",
      "            Solving linear variational problem.\n",
      "            Solving linear variational problem.\n",
      "            Solving linear variational problem.\n",
      "            Solving linear variational problem.\n",
      "            Solving linear variational problem.\n",
      "            Solving linear variational problem.\n",
      "            Solving linear variational problem.\n",
      "            Solving linear variational problem.\n",
      "            Solving linear variational problem.\n",
      "            Solving linear variational problem.\n",
      "            Solving linear variational problem.\n",
      "            Solving linear variational problem.\n",
      "            Solving linear variational problem.\n",
      "            Solving linear variational problem.\n",
      "            Solving linear variational problem.\n",
      "            Solving linear variational problem.\n",
      "            Solving linear variational problem.\n",
      "            Solving linear variational problem.\n",
      "            Solving linear variational problem.\n"
     ]
    }
   ],
   "source": [
    "# c0 = Function(W.sub(0).collapse())\n",
    "# g0 = interpolate(c0, W.sub(1).collapse())\n",
    "u0 = Function(W)\n",
    "c0, g0 = split(u0)\n",
    "u0.sub(0).assign(project(f, W.sub(0).collapse()))\n",
    "u0.sub(1).assign(project(f, W.sub(1).collapse()))\n",
    "\n",
    "\n",
    "c, g = TrialFunctions(W)\n",
    "v, w = TestFunctions(W)\n",
    "\n",
    "D = Constant(1.)\n",
    "dt = 0.1\n",
    "n = FacetNormal(mesh)\n",
    "\n",
    "\n",
    "a = (\n",
    "    (c * v  - dt * D * inner(grad(c), grad(v))) * dx\n",
    "    + ((dt * g * v) + (g + dt * D * inner(grad(c), n))*w) * ds\n",
    ")\n",
    "F = c0 * v * dx + g0 * w * ds\n",
    "\n",
    "concentration = File(\"concentration.pvd\")\n",
    "boundaries = File(\"boundaries.pvd\")\n",
    "\n",
    "u = Function(W)\n",
    "for i in range(100):\n",
    "    solve(a == F, u)\n",
    "    u0.assign(u)\n",
    "    c, g = u.split(True)\n",
    "    concentration << c\n",
    "    boundaries << g "
   ]
  },
  {
   "cell_type": "code",
   "execution_count": null,
   "id": "09f31739",
   "metadata": {},
   "outputs": [],
   "source": []
  }
 ],
 "metadata": {
  "kernelspec": {
   "display_name": "Python 3 (ipykernel)",
   "language": "python",
   "name": "python3"
  },
  "language_info": {
   "codemirror_mode": {
    "name": "ipython",
    "version": 3
   },
   "file_extension": ".py",
   "mimetype": "text/x-python",
   "name": "python",
   "nbconvert_exporter": "python",
   "pygments_lexer": "ipython3",
   "version": "3.10.5"
  }
 },
 "nbformat": 4,
 "nbformat_minor": 5
}
